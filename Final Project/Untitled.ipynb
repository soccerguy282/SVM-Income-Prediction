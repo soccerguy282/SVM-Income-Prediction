{
 "cells": [
  {
   "cell_type": "markdown",
   "id": "e0fcb12f-a023-42fa-bbeb-af9435505a02",
   "metadata": {},
   "source": [
    "For this project, I am going to use SVM's to try and predict whether an individual will earn more than or $50,000 a year or not. I am using a dataset from the Census Bureau in 1994. It has over 32,000 individuals described by 14 variables and labeled as making greater than or less than 50,000 per year. The dataset can be found here https://www.kaggle.com/datasets/uciml/adult-census-income.  First let's import some required libraries. "
   ]
  },
  {
   "cell_type": "code",
   "execution_count": 21,
   "id": "c13fd451-1dc7-4751-aba7-fdc443c9f2ce",
   "metadata": {},
   "outputs": [],
   "source": [
    "import pandas as pd\n",
    "import numpy as np\n",
    "import seaborn as sns\n",
    "from sklearn.svm import SVC"
   ]
  },
  {
   "cell_type": "markdown",
   "id": "31339d15-1c07-4cd5-aa20-0be682707b10",
   "metadata": {},
   "source": [
    "Next let's load in the data and look at a summary"
   ]
  },
  {
   "cell_type": "code",
   "execution_count": 22,
   "id": "19c405a9-ca42-4906-b5aa-c2ef8aeac629",
   "metadata": {},
   "outputs": [
    {
     "name": "stdout",
     "output_type": "stream",
     "text": [
      "Shape of dataset (Number of observations, number of features): (32561, 15)\n",
      "   age workclass  fnlwgt     education  education.num marital.status  \\\n",
      "0   90         ?   77053       HS-grad              9        Widowed   \n",
      "1   82   Private  132870       HS-grad              9        Widowed   \n",
      "2   66         ?  186061  Some-college             10        Widowed   \n",
      "3   54   Private  140359       7th-8th              4       Divorced   \n",
      "4   41   Private  264663  Some-college             10      Separated   \n",
      "\n",
      "          occupation   relationship   race     sex  capital.gain  \\\n",
      "0                  ?  Not-in-family  White  Female             0   \n",
      "1    Exec-managerial  Not-in-family  White  Female             0   \n",
      "2                  ?      Unmarried  Black  Female             0   \n",
      "3  Machine-op-inspct      Unmarried  White  Female             0   \n",
      "4     Prof-specialty      Own-child  White  Female             0   \n",
      "\n",
      "   capital.loss  hours.per.week native.country income  \n",
      "0          4356              40  United-States  <=50K  \n",
      "1          4356              18  United-States  <=50K  \n",
      "2          4356              40  United-States  <=50K  \n",
      "3          3900              40  United-States  <=50K  \n",
      "4          3900              40  United-States  <=50K  \n",
      "<class 'pandas.core.frame.DataFrame'>\n",
      "RangeIndex: 32561 entries, 0 to 32560\n",
      "Data columns (total 15 columns):\n",
      " #   Column          Non-Null Count  Dtype \n",
      "---  ------          --------------  ----- \n",
      " 0   age             32561 non-null  int64 \n",
      " 1   workclass       32561 non-null  object\n",
      " 2   fnlwgt          32561 non-null  int64 \n",
      " 3   education       32561 non-null  object\n",
      " 4   education.num   32561 non-null  int64 \n",
      " 5   marital.status  32561 non-null  object\n",
      " 6   occupation      32561 non-null  object\n",
      " 7   relationship    32561 non-null  object\n",
      " 8   race            32561 non-null  object\n",
      " 9   sex             32561 non-null  object\n",
      " 10  capital.gain    32561 non-null  int64 \n",
      " 11  capital.loss    32561 non-null  int64 \n",
      " 12  hours.per.week  32561 non-null  int64 \n",
      " 13  native.country  32561 non-null  object\n",
      " 14  income          32561 non-null  object\n",
      "dtypes: int64(6), object(9)\n",
      "memory usage: 3.7+ MB\n"
     ]
    }
   ],
   "source": [
    "df = pd.read_csv('data/adult.csv')\n",
    "print('Shape of dataset (Number of observations, number of features):', df.shape)\n",
    "print(df.head())\n",
    "df.info()"
   ]
  },
  {
   "cell_type": "markdown",
   "id": "d644cd6e-bf30-41a7-83e4-12d73d079bf6",
   "metadata": {},
   "source": [
    "There are not any null values but we see '?' appears in some entries. Let's try dropping rows containing '?' as well as any duplicates, then look at the shape again."
   ]
  },
  {
   "cell_type": "code",
   "execution_count": 23,
   "id": "6ccf62a6-a869-4784-a1d5-22319ff07e4e",
   "metadata": {},
   "outputs": [
    {
     "name": "stdout",
     "output_type": "stream",
     "text": [
      "Shape of dataset (Number of observations, number of features): (30139, 15)\n"
     ]
    }
   ],
   "source": [
    "mask = df.map(lambda x: '?' in str(x))\n",
    "df = df[~mask.any(axis=1)]\n",
    "df = df.drop_duplicates()\n",
    "print('Shape of dataset (Number of observations, number of features):', df.shape)"
   ]
  },
  {
   "cell_type": "code",
   "execution_count": 24,
   "id": "1e09bd95-21a8-4597-a145-48b33eab53eb",
   "metadata": {},
   "outputs": [
    {
     "data": {
      "text/html": [
       "<div>\n",
       "<style scoped>\n",
       "    .dataframe tbody tr th:only-of-type {\n",
       "        vertical-align: middle;\n",
       "    }\n",
       "\n",
       "    .dataframe tbody tr th {\n",
       "        vertical-align: top;\n",
       "    }\n",
       "\n",
       "    .dataframe thead th {\n",
       "        text-align: right;\n",
       "    }\n",
       "</style>\n",
       "<table border=\"1\" class=\"dataframe\">\n",
       "  <thead>\n",
       "    <tr style=\"text-align: right;\">\n",
       "      <th></th>\n",
       "      <th>age</th>\n",
       "      <th>fnlwgt</th>\n",
       "      <th>education.num</th>\n",
       "      <th>capital.gain</th>\n",
       "      <th>capital.loss</th>\n",
       "      <th>hours.per.week</th>\n",
       "    </tr>\n",
       "  </thead>\n",
       "  <tbody>\n",
       "    <tr>\n",
       "      <th>count</th>\n",
       "      <td>30139.000000</td>\n",
       "      <td>3.013900e+04</td>\n",
       "      <td>30139.000000</td>\n",
       "      <td>30139.000000</td>\n",
       "      <td>30139.000000</td>\n",
       "      <td>30139.000000</td>\n",
       "    </tr>\n",
       "    <tr>\n",
       "      <th>mean</th>\n",
       "      <td>38.441720</td>\n",
       "      <td>1.897950e+05</td>\n",
       "      <td>10.122532</td>\n",
       "      <td>1092.841202</td>\n",
       "      <td>88.439928</td>\n",
       "      <td>40.934703</td>\n",
       "    </tr>\n",
       "    <tr>\n",
       "      <th>std</th>\n",
       "      <td>13.131426</td>\n",
       "      <td>1.056586e+05</td>\n",
       "      <td>2.548738</td>\n",
       "      <td>7409.110596</td>\n",
       "      <td>404.445239</td>\n",
       "      <td>11.978753</td>\n",
       "    </tr>\n",
       "    <tr>\n",
       "      <th>min</th>\n",
       "      <td>17.000000</td>\n",
       "      <td>1.376900e+04</td>\n",
       "      <td>1.000000</td>\n",
       "      <td>0.000000</td>\n",
       "      <td>0.000000</td>\n",
       "      <td>1.000000</td>\n",
       "    </tr>\n",
       "    <tr>\n",
       "      <th>25%</th>\n",
       "      <td>28.000000</td>\n",
       "      <td>1.176275e+05</td>\n",
       "      <td>9.000000</td>\n",
       "      <td>0.000000</td>\n",
       "      <td>0.000000</td>\n",
       "      <td>40.000000</td>\n",
       "    </tr>\n",
       "    <tr>\n",
       "      <th>50%</th>\n",
       "      <td>37.000000</td>\n",
       "      <td>1.784170e+05</td>\n",
       "      <td>10.000000</td>\n",
       "      <td>0.000000</td>\n",
       "      <td>0.000000</td>\n",
       "      <td>40.000000</td>\n",
       "    </tr>\n",
       "    <tr>\n",
       "      <th>75%</th>\n",
       "      <td>47.000000</td>\n",
       "      <td>2.376045e+05</td>\n",
       "      <td>13.000000</td>\n",
       "      <td>0.000000</td>\n",
       "      <td>0.000000</td>\n",
       "      <td>45.000000</td>\n",
       "    </tr>\n",
       "    <tr>\n",
       "      <th>max</th>\n",
       "      <td>90.000000</td>\n",
       "      <td>1.484705e+06</td>\n",
       "      <td>16.000000</td>\n",
       "      <td>99999.000000</td>\n",
       "      <td>4356.000000</td>\n",
       "      <td>99.000000</td>\n",
       "    </tr>\n",
       "  </tbody>\n",
       "</table>\n",
       "</div>"
      ],
      "text/plain": [
       "                age        fnlwgt  education.num  capital.gain  capital.loss  \\\n",
       "count  30139.000000  3.013900e+04   30139.000000  30139.000000  30139.000000   \n",
       "mean      38.441720  1.897950e+05      10.122532   1092.841202     88.439928   \n",
       "std       13.131426  1.056586e+05       2.548738   7409.110596    404.445239   \n",
       "min       17.000000  1.376900e+04       1.000000      0.000000      0.000000   \n",
       "25%       28.000000  1.176275e+05       9.000000      0.000000      0.000000   \n",
       "50%       37.000000  1.784170e+05      10.000000      0.000000      0.000000   \n",
       "75%       47.000000  2.376045e+05      13.000000      0.000000      0.000000   \n",
       "max       90.000000  1.484705e+06      16.000000  99999.000000   4356.000000   \n",
       "\n",
       "       hours.per.week  \n",
       "count    30139.000000  \n",
       "mean        40.934703  \n",
       "std         11.978753  \n",
       "min          1.000000  \n",
       "25%         40.000000  \n",
       "50%         40.000000  \n",
       "75%         45.000000  \n",
       "max         99.000000  "
      ]
     },
     "execution_count": 24,
     "metadata": {},
     "output_type": "execute_result"
    }
   ],
   "source": [
    "df.describe()"
   ]
  },
  {
   "cell_type": "code",
   "execution_count": null,
   "id": "d5370540-4857-43ef-b326-669d14af2ce0",
   "metadata": {},
   "outputs": [],
   "source": []
  }
 ],
 "metadata": {
  "kernelspec": {
   "display_name": "Python 3 (ipykernel)",
   "language": "python",
   "name": "python3"
  },
  "language_info": {
   "codemirror_mode": {
    "name": "ipython",
    "version": 3
   },
   "file_extension": ".py",
   "mimetype": "text/x-python",
   "name": "python",
   "nbconvert_exporter": "python",
   "pygments_lexer": "ipython3",
   "version": "3.12.0"
  }
 },
 "nbformat": 4,
 "nbformat_minor": 5
}
